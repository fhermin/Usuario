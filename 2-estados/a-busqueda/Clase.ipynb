{
 "cells": [
  {
   "cell_type": "markdown",
   "id": "ef254395-6da1-4ffc-825f-231b751a8aaf",
   "metadata": {},
   "source": [
    "# Modelos basados en estados\n",
    "\n",
    "## Problemas de búsqueda"
   ]
  },
  {
   "cell_type": "markdown",
   "id": "92256347-3c07-4e80-b7d2-55c18eca3d00",
   "metadata": {},
   "source": [
    "En este bloque discutiremos en general modelos de inteligencia artificial basados en estados y en particular problemas de búsqueda.\n",
    "\n",
    "Encontrar una ruta de un lugar a otro es uno de los ejemplos clásicos de problemas de búsqueda.  Tenemos de entrada un mapa, un punto de origen y un punto destino.  El objetivo es producir como salida una secuencia de acciones.\n",
    "\n",
    "Consideremos el siguiente mapa\n",
    "\n",
    "<center>\n",
    "    <img src=\"./img00.png\" />\n",
    "</center>\n",
    "\n",
    "Considerando que el punto de inicio es el edificio 3K4 en la UNISON y el punto final es La Biblioteca, una solución al problema de encontrar una ruta entre los dos puntos sería la siguiente:\n",
    "\n",
    "- Dirígete al este por Av Luis Donaldo Colosio Murrieta por 190 metros\n",
    "- Gira a la derecha hacia Calle Av. Rosales/Guaymas-Hermosillo/Hermosillo - Guaymas por 72 metros\n",
    "- Gira a la derecha con dirección a Calle Av. Rosales/Guaymas - Hermosillo/Hermosillo - Guaymas por 74 metros\n",
    "- Gira a la izquierda con dirección a Av. Dr. Alberto G. Noriega por 30 metros\n",
    "- El destino está a la derecha\n",
    "\n",
    "Al seguir estas instrucciones, llegamos al destino.\n",
    "\n",
    "<center>\n",
    "    <img src=\"./img01.png\" />\n",
    "</center>\n",
    "\n",
    "¿Cómo podemos evaluar qué tan buenas son las secuencias de acciones?\n",
    "\n",
    "- Distancia recorrida\n",
    "- Tiempo de llegada\n",
    "- Caminos más seguros\n",
    "- Recorrido más pictórico\n",
    "\n",
    "Otro contexto es en planeación de movimiento de un robot.  Esto puede ir desde el desplazamiento del robot en el espacio, hasta la activación coordinada de cada motor en el brazo robótico para abrir una puerta.\n",
    "\n",
    "Uno de los algoritmos de búsqueda más importantes que discutiremos, el $A^\\ast$, fue desarrollado para la operación de los primeros robots inteligentes.\n",
    "\n",
    "\n",
    "<center>\n",
    "    <img src=\"./img02.gif\" />\n",
    "</center>\n",
    "\n",
    "En este ejemplo de planeación en robots, ¿Cómo podemos evaluar un plan?\n",
    "\n",
    "- Mas rápido de ejecutar\n",
    "- Mas eficiente en gasto de energía\n",
    "- Mas seguro de realizar\n",
    "- Mas expresivo\n",
    "\n",
    "Podemos complicar más el ejemplo, en lugar de construir planes para un robot, podríamos construir planes para toda una flotilla de robots para eficientar la organización de los almacenes en Correos de México.\n",
    "\n",
    "<center>\n",
    "    <img src=\"./img03.jpg\" />\n",
    "</center>\n",
    "\n",
    "Problemas de búsqueda también aparecen en varios juegos como el cubo de Rubik o el Sudoku.\n",
    "\n",
    "<center>\n",
    "    <img src=\"./img04.png\" />\n",
    "</center>\n",
    "\n",
    "¿Qué forma tendrían las acciones?\n",
    "\n",
    "¿Qué forma tendrían los objetivos?"
   ]
  },
  {
   "cell_type": "markdown",
   "id": "fe342d87-7dff-42ba-a8dc-02460672ea5c",
   "metadata": {},
   "source": [
    "### Más allá de reflejos\n",
    "\n",
    "En un problema de búsqueda, de cierta forma, seguimos construyendo un predictor $f$ que toma una entrada $x$. Pero $f$ ahora regresa una *secuencia de acciones* no solo una acción.\n",
    "\n",
    "En los problemas de clasificación:\n",
    "<center>\n",
    "    <img src=\"./img05.png\" />\n",
    "</center>\n",
    "\n",
    "En los problemas de búsqueda:\n",
    "<center>\n",
    "    <img src=\"./img06.png\" />\n",
    "</center>"
   ]
  },
  {
   "cell_type": "markdown",
   "id": "a8a5077a-8003-467a-991a-095d5372659b",
   "metadata": {},
   "source": [
    "### ¿Qué discutiremos en este bloque?\n",
    "\n",
    "- Cómo modelar problemas de búsqueda\n",
    "- Búsqueda en árboles\n",
    "- Programación dinámica\n",
    "- Búsqueda de costo uniforme\n",
    "- Algoritmo A*\n",
    "- Cómo lidiar con problemas parcialmente especificados"
   ]
  },
  {
   "cell_type": "markdown",
   "id": "0a2dc997-3746-4451-bdee-5e0857c5bae7",
   "metadata": {},
   "source": [
    "## Modelación de problemas de búsqueda\n",
    "\n",
    "¿Recuerdan el acertijo del lobo, la cabra y la col?\n",
    "\n",
    "*Un día, un granjero fue al mercado y compró un lobo, una\n",
    "cabra y una col. Para volver a su casa tenía que cruzar\n",
    "un río. El granjero dispone de una barca para cruzar a\n",
    "la otra orilla, pero en la barca solo caben él y una de sus\n",
    "compras.*\n",
    "\n",
    "\n",
    "*Si el lobo se queda solo con la cabra, se la come.  Si la cabra se queda sola con la col, se la come.*\n",
    "\n",
    "*El reto del granjero es cruzar él mismo y dejar sus compras a la otra orilla del río, dejando cada compra intacta.*\n",
    "\n",
    "---\n",
    "\n",
    "<center>\n",
    "    <img src=\"./img07.png\" />\n",
    "</center>"
   ]
  },
  {
   "cell_type": "markdown",
   "id": "b637870b-5536-4cf1-bc36-c8ccdf545525",
   "metadata": {},
   "source": [
    "Definimos nuestro problema de búsqueda especificando:\n",
    "- Estado inicial: $s_0$\n",
    "- Posibles acciones en el estado $s$: $\\mathrm{Actions}(s)$\n",
    "- Costo de realizar una acción $a$ en un estado $s$: $\\mathrm{Cost}(s, a)$\n",
    "- Estado al que llegamos después de aplicar una acción $a$ en un estado $s$: $\\mathrm{Succ}(s, a)$\n",
    "- Predicado para determinar si un estado $s$ es final: $\\mathrm{IsEnd}(s)$\n",
    "\n",
    "Codificamos un estado representando con `F` al granjero, `C` a la col, `G` a la cabra, `W` al lobo y `||` al río.\n",
    "\n",
    "El estado inicial es `FCGW||`,\n",
    "\n",
    "El universo de acciones consiste de ocho, ya que en la barca caben a lo más dos entidades y una de ellas debe ser el granjero, estas representan qué entidades se mueven al otro lado del rio en la barca y en qué dirección:\n",
    "- `F>`\n",
    "- `F<`\n",
    "- `FC>`\n",
    "- `FC<`\n",
    "- `FG>`\n",
    "- `FG<`\n",
    "- `FW>`\n",
    "- `FW<`\n",
    "\n",
    "Se omiten las acciones que nos regresan a un estado previo.\n",
    "Consideramos adicionalmente que cada acción tiene un costo unitario.\n",
    "\n",
    "La propuesta es construir un árbol de búsqueda donde la raíz sea el estado inicial y las hojas los estados finales. Cada arista saliente de un nodo $s$ corresponde a una posible acción en $\\mathrm{Actions}(s)$ que pueda realizarse en el estado $s$. Las aristas son etiquetadas por una acción yb un costo, denotado $a:\\mathrm{Cost}(s,a)$.\n",
    "\n",
    "<center>\n",
    "    <img src=\"./img08.png\" />\n",
    "</center>\n",
    "\n",
    "Una diferencia fundamental del concepto de árbol de búsqueda en IA y Estructuras de Datos es que en IA no construímos el árbol en memoria, usualmente se construye en memoria una trayectoria del estado inicial a un estado final con algunas rutas del árbol posiblemente sin explorar."
   ]
  },
  {
   "cell_type": "markdown",
   "id": "1cb23768-7671-40d8-b2fc-bf8883ecd838",
   "metadata": {},
   "source": [
    "**Para la tarea:** Modela el juego de las torres de Hanói como un problema de búsqueda.\n",
    "\n",
    "**Para la tarea:** Escribe un programa de Python que genere un tablero de Sudoku resuelto de forma aleatoria de tamaño $9\\times9$.  No busques algoritmos para lograr esto, en su lugar, plantea una idea clave para resolver el problema y asegúrate que tu implementación sea lo más clara y entendible que puedas."
   ]
  },
  {
   "cell_type": "markdown",
   "id": "b5ff4833-d02b-43b5-9b60-48bd224f77ca",
   "metadata": {},
   "source": [
    "## Búsqueda con backtracking\n",
    "\n",
    "Supongamos que se nos presenta un problema de búsqueda.\n",
    "\n",
    "¿Cómo construimos un algoritmo para encontrar una trayectoria de mínimo costo entre el estado inicial y alguno de los estados finales?"
   ]
  },
  {
   "cell_type": "markdown",
   "id": "ec1bcfdf-d115-4794-9dae-f4e367293fa9",
   "metadata": {},
   "source": [
    "Consideremos todas las posibles trayectorias."
   ]
  }
 ],
 "metadata": {
  "kernelspec": {
   "display_name": "Python 3 (ipykernel)",
   "language": "python",
   "name": "python3"
  },
  "language_info": {
   "codemirror_mode": {
    "name": "ipython",
    "version": 3
   },
   "file_extension": ".py",
   "mimetype": "text/x-python",
   "name": "python",
   "nbconvert_exporter": "python",
   "pygments_lexer": "ipython3",
   "version": "3.10.9"
  }
 },
 "nbformat": 4,
 "nbformat_minor": 5
}
