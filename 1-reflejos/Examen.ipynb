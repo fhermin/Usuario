{
 "cells": [
  {
   "cell_type": "markdown",
   "id": "d33139fa-927c-4cb1-9521-cc3c12e0be89",
   "metadata": {},
   "source": [
    "# Torres de Hanói"
   ]
  },
  {
   "cell_type": "markdown",
   "id": "051e1340-fad8-41fa-a54e-8168f1b1cbed",
   "metadata": {},
   "source": [
    "### Una ruta"
   ]
  },
  {
   "cell_type": "code",
   "execution_count": null,
   "id": "2a98c2d5-3bf7-4e00-ae2e-d9b99b56badd",
   "metadata": {
    "tags": []
   },
   "outputs": [],
   "source": [
    "N = 7"
   ]
  },
  {
   "cell_type": "markdown",
   "id": "4709c12f-d7f8-4d87-841d-bf4ba0c9a69e",
   "metadata": {},
   "source": [
    "**¿Qué tipo de objetos son los estados?**\n",
    "\n",
    "Un estado es una lista de tres elementos, uno por cada poste. Cada poste se representa por una lista con los discos que contiene. Cada disco se representa por un natural $k$ donde $0 \\leq k < 7$."
   ]
  },
  {
   "cell_type": "markdown",
   "id": "29e08d79-d033-422b-b1cd-d7ec5a54150e",
   "metadata": {},
   "source": [
    "**¿Cuál es un estado inicial?**"
   ]
  },
  {
   "cell_type": "code",
   "execution_count": null,
   "id": "f819d562-0bc0-411e-9828-e362ecfeb2c5",
   "metadata": {
    "tags": []
   },
   "outputs": [],
   "source": [
    "def estado_inicial():\n",
    "    return [\n",
    "        list(range(N)),\n",
    "        [],\n",
    "        [],\n",
    "    ]"
   ]
  },
  {
   "cell_type": "code",
   "execution_count": null,
   "id": "11388e8c-2658-4e78-9c59-ae5aca5d5b60",
   "metadata": {
    "tags": []
   },
   "outputs": [],
   "source": [
    "estado_inicial()"
   ]
  },
  {
   "cell_type": "markdown",
   "id": "3b5a5778-bd30-4745-9266-529b67fab3ca",
   "metadata": {},
   "source": [
    "**Escribe una función para generar un estado inicial aleatorio**\n",
    "\n",
    "Se elige un poste aleatoriamente que contenga todos los discos."
   ]
  },
  {
   "cell_type": "code",
   "execution_count": null,
   "id": "1d2367bc-d872-4167-8e1e-5dfcf2468d72",
   "metadata": {
    "tags": []
   },
   "outputs": [],
   "source": [
    "from random import randint"
   ]
  },
  {
   "cell_type": "code",
   "execution_count": null,
   "id": "e8252feb-dd91-42ae-8182-81641b458fbb",
   "metadata": {
    "tags": []
   },
   "outputs": [],
   "source": [
    "def estado_inicial_aleatorio():\n",
    "    estado = [[],[],[]]\n",
    "    poste_lleno = list(range(N))\n",
    "    estado[randint(0,2)] = poste_lleno\n",
    "    return estado"
   ]
  },
  {
   "cell_type": "code",
   "execution_count": null,
   "id": "9096d8b3-a693-4c08-b32c-bf4841d6e049",
   "metadata": {
    "tags": []
   },
   "outputs": [],
   "source": [
    "estado_inicial_aleatorio()"
   ]
  },
  {
   "cell_type": "markdown",
   "id": "bad406e2-6acf-4878-bdef-f656b9bb7c59",
   "metadata": {},
   "source": [
    "**Escribe un predicado para determinar si un estado es válido**\n",
    "\n",
    "Debe corresponder a la forma de los estados"
   ]
  },
  {
   "cell_type": "code",
   "execution_count": null,
   "id": "f84edcb5-2fcb-419d-b70b-e6f95a5c89a2",
   "metadata": {
    "tags": []
   },
   "outputs": [],
   "source": [
    "def estado_valido(s):\n",
    "    if type(s) is not list:\n",
    "        return False\n",
    "    # Garantizamos que s es lista\n",
    "    if len(s) != 3:\n",
    "        return False\n",
    "    # Garantizamos que tiene 3 elementos\n",
    "    for si in s:\n",
    "        if type(si) is not list:\n",
    "            return False\n",
    "        if not all(type(x) is int and 0 <= x < N\n",
    "                   for x in si):\n",
    "            return False\n",
    "        if si != sorted(si):\n",
    "            return False\n",
    "    # Garantizamos que cada poste es una lista de\n",
    "    # enteros en el rango y orden adecuado\n",
    "    discos = s[0] + s[1] + s[2]\n",
    "    if len(discos) != N:\n",
    "        return False\n",
    "    # Garantizamos que hay N discos en total\n",
    "    if len(set(discos)) != N:\n",
    "        return False\n",
    "    # Garantizamos que cada poste tiene discos distintos\n",
    "    return True"
   ]
  },
  {
   "cell_type": "code",
   "execution_count": null,
   "id": "3342a30e-a46b-4d24-842f-aff160b75bdd",
   "metadata": {
    "tags": []
   },
   "outputs": [],
   "source": [
    "estado_valido(estado_inicial_aleatorio())"
   ]
  },
  {
   "cell_type": "markdown",
   "id": "4fae3a20-9968-46f2-8db8-225f9ee469e0",
   "metadata": {},
   "source": [
    "**¿Qué tipo de objeto son los movimientos?**\n",
    "\n",
    "Los movimientos son tuplas $(p_i, p_f)$ que indican el índice del poste de donde se saca el disco $p_i$ y el ínidce del poste a donde se mueve este disco $p_f$."
   ]
  },
  {
   "cell_type": "markdown",
   "id": "b051fe20-cf28-43ee-be0c-7885c7cb5131",
   "metadata": {},
   "source": [
    "**¿Qué movimientos se pueden realizar desde el estado inicial de la segunda pregunta?**\n",
    "\n",
    "$(0, 1)$ y $(0, 2)$\n",
    "\n",
    "**¿Cuál es la máxima cantidad de vecinos que puede tener un estado?**\n",
    "\n",
    "Tres, por ejemplo, poder mover del poste 0 al 1, del 0 al 2 y del 1 al 2. Consideremos la siguiente secuencia de movimientos a partir del estado inicial de la segunda pregunta.\n",
    "\n",
    "*inicio:*\n",
    "```\n",
    "[[0, 1, 2, 3, 4, 5, 6, 7],\n",
    " [],\n",
    " []]\n",
    "```\n",
    "\n",
    "*moviendo de 0 a 2:*\n",
    "```\n",
    "[[1, 2, 3, 4, 5, 6, 7],\n",
    " [],\n",
    " [0]]\n",
    "```\n",
    "\n",
    "*moviendo de 0 a 1:*\n",
    "```\n",
    "[[2, 3, 4, 5, 6, 7],\n",
    " [1],\n",
    " [0]]\n",
    "```\n",
    "\n",
    "*moviendo de 2 a 1:*\n",
    "```\n",
    "[[2, 3, 4, 5, 6, 7],\n",
    " [0, 1],\n",
    " []]\n",
    "```\n",
    "\n",
    "*moviendo de 0 a 2:*\n",
    "```\n",
    "[[3, 4, 5, 6, 7],\n",
    " [0, 1],\n",
    " [2]]\n",
    "```\n",
    "\n",
    "*moviendo de 1 a 0:*\n",
    "```\n",
    "[[0, 3, 4, 5, 6, 7],\n",
    " [1],\n",
    " [2]]\n",
    "```\n",
    "\n",
    "Posibles movimientos en este punto son:\n",
    "- $(0,1)$\n",
    "- $(0,2)$\n",
    "- $(1,2)$\n",
    "\n",
    "Otra forma de pensarlo es de la siguiente manera, representemos cada poste como vértices de una gráfica dirigida, ya que las reglas solo admiten el movimiento de un disco a un poste vacío o cuyo disco en la cima sea de mayor tamaño la relación de aristas no es reflexiva ni simétrica, por lo que la pregunta se reduce a la máxima cantidad de aristas dirigidas en la gráfica, osea $3$."
   ]
  },
  {
   "cell_type": "markdown",
   "id": "de277a02-6714-4985-a82d-b63b5963de25",
   "metadata": {},
   "source": [
    "**Escribe una función para generar un vecino aleatorio sin tener que calcular todos los vecinos**\n",
    "\n",
    "*Lema:* Para cualquier pareja de postes donde al menos uno no esté vacío existe algún movimiento válido."
   ]
  },
  {
   "cell_type": "code",
   "execution_count": null,
   "id": "1802f137-1b9f-40c7-ae87-0221791ae4eb",
   "metadata": {
    "tags": []
   },
   "outputs": [],
   "source": [
    "from random import sample"
   ]
  },
  {
   "cell_type": "code",
   "execution_count": null,
   "id": "5ac9d3fc-e4b4-45f5-82dc-acf4ee82bf1c",
   "metadata": {
    "tags": []
   },
   "outputs": [],
   "source": [
    "def vecino_aleatorio(s):\n",
    "    def tope(r):\n",
    "        return N+1 if len(s[r]) == 0 else s[r][0]\n",
    "    s2 = [[x for x in sr] for sr in s]\n",
    "    i = None\n",
    "    j = None\n",
    "    while True:\n",
    "        [i, j] = sample(range(3), 2)\n",
    "        if len(s[i]) > 0 or len(s[j]) > 0:\n",
    "            break\n",
    "    if tope(i) < tope(j):\n",
    "        s2[j].insert(0, s2[i].pop(0))\n",
    "    else:\n",
    "        s2[i].insert(0, s2[j].pop(0))\n",
    "    return s2"
   ]
  },
  {
   "cell_type": "code",
   "execution_count": null,
   "id": "351009f0-c606-4456-ae8e-c6cedd525ab9",
   "metadata": {
    "tags": []
   },
   "outputs": [],
   "source": [
    "vecino_aleatorio(\n",
    "    [[0, 3, 4, 5, 6, 7],\n",
    "     [1],\n",
    "     [2]]\n",
    ")"
   ]
  },
  {
   "cell_type": "markdown",
   "id": "83725f33-f14a-4605-92f9-9d76e6a04518",
   "metadata": {},
   "source": [
    "**Escribe una función que mida qué tan bueno o malo es un estado (puede también depender del estado inicial)**"
   ]
  },
  {
   "cell_type": "code",
   "execution_count": null,
   "id": "96a41ce8-e1a7-4d33-96f4-dc03013e413e",
   "metadata": {
    "tags": []
   },
   "outputs": [],
   "source": [
    "def costo_iniciando_en(r):\n",
    "    otros = [0, 1, 2]\n",
    "    otros.pop(r)\n",
    "    def costo(s):\n",
    "        c = sum(d + N for d in s[r])\n",
    "        [i, j] = otros\n",
    "        ci = sum(d for d in s[i])\n",
    "        cj = sum(d for d in s[j])\n",
    "        c += min(ci,cj)\n",
    "        return c\n",
    "    return costo"
   ]
  },
  {
   "cell_type": "code",
   "execution_count": null,
   "id": "b51f18a1-ebcb-43da-a984-fcad19784951",
   "metadata": {
    "tags": []
   },
   "outputs": [],
   "source": [
    "costo = costo_iniciando_en(0)"
   ]
  },
  {
   "cell_type": "code",
   "execution_count": null,
   "id": "f3d2f0de-7b46-4cf8-ab3c-53a5b152859c",
   "metadata": {
    "tags": []
   },
   "outputs": [],
   "source": [
    "costo(\n",
    "    [[1],\n",
    "     [0, 3, 4, 5, 6, 7],\n",
    "     [2]]\n",
    ")"
   ]
  },
  {
   "cell_type": "code",
   "execution_count": null,
   "id": "9f8186bc-b790-4ee3-9074-f1914d3ca405",
   "metadata": {
    "tags": []
   },
   "outputs": [],
   "source": [
    "costo(\n",
    "    [[0, 1],\n",
    "     [3, 4, 5, 6, 7],\n",
    "     [2]]\n",
    ")"
   ]
  },
  {
   "cell_type": "markdown",
   "id": "e518560d-908f-4e3b-96f2-b9413c7e363d",
   "metadata": {},
   "source": [
    "# SGD con pérdida logística"
   ]
  },
  {
   "cell_type": "markdown",
   "id": "9dd1fd3f-fc4f-4b38-a6ac-c67fdf609a09",
   "metadata": {},
   "source": [
    "Para simplificar, consideramos $\\phi(x) = x$"
   ]
  },
  {
   "cell_type": "markdown",
   "id": "427a67c0-7aaa-4673-ad4b-886cbd186d52",
   "metadata": {},
   "source": [
    "Clasificador:\n",
    "$$f_\\mathbf{w}(x) = \\mathrm{sign}(\\mathbf{w}\\cdot\\phi(x))$$"
   ]
  },
  {
   "cell_type": "code",
   "execution_count": null,
   "id": "26b60dab-6cff-4915-b992-f49cda83a320",
   "metadata": {
    "tags": []
   },
   "outputs": [],
   "source": [
    "def sign(z):\n",
    "    if z >= 0:\n",
    "        return +1\n",
    "    return -1\n",
    "\n",
    "def classify(w, x):\n",
    "    return sign(np.dot(w, x))"
   ]
  },
  {
   "cell_type": "markdown",
   "id": "0ce1688f-1e7b-44a6-9220-01a7d32f1ec9",
   "metadata": {},
   "source": [
    "Pérdida logística:\n",
    "\n",
    "$$\\mathrm{Loss}(\\mathbf{w}, x, y) = \\ln{\\left(1 + e^{-(\\mathbf{w}\\cdot\\phi(x))y}\\right)}$$"
   ]
  },
  {
   "cell_type": "code",
   "execution_count": null,
   "id": "35c61ed6-002f-4de2-a470-1e6cc88f95e3",
   "metadata": {
    "tags": []
   },
   "outputs": [],
   "source": [
    "import numpy as np"
   ]
  },
  {
   "cell_type": "code",
   "execution_count": null,
   "id": "0a329f93-4b19-4b29-a2f6-eb0433656e35",
   "metadata": {
    "tags": []
   },
   "outputs": [],
   "source": [
    "def loss(w, x, y):\n",
    "    return np.log(1+np.exp(-np.dot(w, x)*y))"
   ]
  },
  {
   "cell_type": "markdown",
   "id": "816cdef3-282c-4867-9e56-229451186f24",
   "metadata": {},
   "source": [
    "Gradiente:\n",
    "\n",
    "$$\\begin{align*}\n",
    "\\nabla_\\mathbf{w}\\mathrm{Loss}(\\mathbf{w}, x, y) &= \\nabla_\\mathbf{w} \\ln{\\left(1 + e^{-(\\mathbf{w}\\cdot\\phi(x))y}\\right)} \\\\\n",
    "&= \\frac{1}{\\left(1 + e^{-(\\mathbf{w}\\cdot\\phi(x))y}\\right)}\\times \\nabla_\\mathbf{w} \\left(1 + e^{-(\\mathbf{w}\\cdot\\phi(x))y}\\right) \\\\\n",
    "&= \\frac{1}{\\left(1 + e^{-(\\mathbf{w}\\cdot\\phi(x))y}\\right)}\\times\\left[\\nabla_\\mathbf{w} 1 + \\nabla_\\mathbf{w}e^{-(\\mathbf{w}\\cdot\\phi(x))y}     \\right] \\\\\n",
    "&= \\frac{1}{\\left(1 + e^{-(\\mathbf{w}\\cdot\\phi(x))y}\\right)}\\times\\left[\\nabla_\\mathbf{w}e^{-(\\mathbf{w}\\cdot\\phi(x))y}     \\right] \\\\\n",
    "&= \\frac{1}{\\left(1 + e^{-(\\mathbf{w}\\cdot\\phi(x))y}\\right)}\\times%\n",
    "%\n",
    "e^{-(\\mathbf{w}\\cdot\\phi(x))y} \\times\n",
    "%\n",
    "\\nabla_\\mathbf{w} \\left[-(\\mathbf{w}\\cdot\\phi(x))y\\right]%\n",
    "\\\\\n",
    "&= \\frac{e^{-(\\mathbf{w}\\cdot\\phi(x))y}}{\\left(1 + e^{-(\\mathbf{w}\\cdot\\phi(x))y}\\right)}\\times%\n",
    "%\n",
    "\\nabla_\\mathbf{w} \\left[-(\\mathbf{w}\\cdot\\phi(x))y\\right] \\\\\n",
    "&= \\frac{e^{-(\\mathbf{w}\\cdot\\phi(x))y}}{\\left(1 + e^{-(\\mathbf{w}\\cdot\\phi(x))y}\\right)}\\times%\n",
    "%\n",
    "-\\phi(x)y \\\\\n",
    "&= \\frac{1}{e^{(\\mathbf{w}\\cdot\\phi(x))y}\\left(1 + e^{-(\\mathbf{w}\\cdot\\phi(x))y}\\right)}\\times%\n",
    "%\n",
    "-\\phi(x)y \\\\\n",
    "&= \\frac{1}{e^{(\\mathbf{w}\\cdot\\phi(x))y} + 1}\\times%\n",
    "%\n",
    "-\\phi(x)y \\\\\n",
    "&= \\frac{-\\phi(x)y}{e^{(\\mathbf{w}\\cdot\\phi(x))y} + 1}\n",
    "\\end{align*}$$"
   ]
  },
  {
   "cell_type": "code",
   "execution_count": null,
   "id": "0940918d-41d0-4c5d-878f-e8cf1c1d22b8",
   "metadata": {
    "tags": []
   },
   "outputs": [],
   "source": [
    "def gloss(w, x, y):\n",
    "    return -np.multiply(x, y) / (1 + np.exp(np.dot(w, x)*y))"
   ]
  },
  {
   "cell_type": "markdown",
   "id": "0adbe386-f9c2-4f5b-9375-91e1ce944556",
   "metadata": {},
   "source": [
    "Descenso de gradiente estocástico:"
   ]
  },
  {
   "cell_type": "code",
   "execution_count": null,
   "id": "169401e4-728f-431e-9663-98299359da47",
   "metadata": {
    "tags": []
   },
   "outputs": [],
   "source": [
    "def debug(*args):\n",
    "    print(*args)\n",
    "    return\n",
    "\n",
    "def nodebug(*args):\n",
    "    return\n",
    "\n",
    "def sgd(D, w0, T, log=debug):\n",
    "    n = 0\n",
    "    w = w0\n",
    "    for t in range(T):\n",
    "        log(f\"Epoch {t} -------------------------------------------------------------\")\n",
    "        for x, y in D:\n",
    "            a = loss(w, x, y)\n",
    "            b = gloss(w, x, y)\n",
    "            eta = 1.0 / np.sqrt(n + 1)\n",
    "            log(f\"n = {n} w = {w} x = {x} y = {y} loss = {a} gloss = {b} eta = {eta}\")\n",
    "            w = w - eta * b\n",
    "            n += 1\n",
    "        log(f\"! correct: {sum(classify(w, x) == y for x, y in D)}/{len(D)}\")\n",
    "    return w, 1.0 * sum(classify(w, x) == y for x, y in D) / len(D)"
   ]
  },
  {
   "cell_type": "markdown",
   "id": "9f5401c0-d941-4997-ad14-2be422df8cad",
   "metadata": {},
   "source": [
    "Conjunto de entrenamiento $D_1$\n",
    "\n",
    "| x | y |\n",
    "|---|---|\n",
    "| -1 | -1 |\n",
    "| -2 | -1 |\n",
    "| +1 | +1 |\n",
    "| +2 | +1 |"
   ]
  },
  {
   "cell_type": "code",
   "execution_count": null,
   "id": "86704435-4d6f-4bb0-a390-1c2aac17822f",
   "metadata": {
    "tags": []
   },
   "outputs": [],
   "source": [
    "D1 = [\n",
    "    ((-1,), -1),\n",
    "    ((-2,), -1),\n",
    "    ((+1,), +1),\n",
    "    ((+2,), +1),\n",
    "]"
   ]
  },
  {
   "cell_type": "code",
   "execution_count": null,
   "id": "45d1b9be-c4f2-4d56-a206-7b0e67955df2",
   "metadata": {
    "tags": []
   },
   "outputs": [],
   "source": [
    "sgd(D1, (0,), 1)"
   ]
  },
  {
   "cell_type": "markdown",
   "id": "6b864c4a-233d-4f43-93fc-e99880b36579",
   "metadata": {},
   "source": [
    "Conjunto de entrenamiento $D_2$\n",
    "\n",
    "| x | y |\n",
    "|---|---|\n",
    "| -1 | -1 |\n",
    "| -2 | +1 |\n",
    "| +1 | +1 |\n",
    "| +2 | -1 |"
   ]
  },
  {
   "cell_type": "code",
   "execution_count": null,
   "id": "4c0a413c-ecae-4725-81c8-e59cf17e2198",
   "metadata": {
    "tags": []
   },
   "outputs": [],
   "source": [
    "D2 = [\n",
    "    ((-1,), -1),\n",
    "    ((-2,), +1),\n",
    "    ((+1,), +1),\n",
    "    ((+2,), -1),\n",
    "]"
   ]
  },
  {
   "cell_type": "code",
   "execution_count": null,
   "id": "5c2f8de8-83e1-40f4-a207-d489d68a9450",
   "metadata": {
    "tags": []
   },
   "outputs": [],
   "source": [
    "sgd(D2, (0,), 1)"
   ]
  },
  {
   "cell_type": "markdown",
   "id": "9fed03ee-96e3-4653-9b5c-75a625ab5f13",
   "metadata": {},
   "source": [
    "# Características no-lineales\n",
    "\n",
    "Clasificador\n",
    "$$f_\\mathbf{w}(x) = \\mathrm{sign}(\\mathbf{w}\\cdot\\phi(x))$$"
   ]
  },
  {
   "cell_type": "code",
   "execution_count": null,
   "id": "f0b255d5-c503-47d0-a220-38d9aaedab23",
   "metadata": {
    "tags": []
   },
   "outputs": [],
   "source": [
    "D =    [((2, 2), -1),\n",
    "        ((4, 1), -1),\n",
    "        ((7, 2), -1),\n",
    "        ((4, 3), +1),\n",
    "        ((5, 3), +1),\n",
    "        ((2, 4), -1),\n",
    "        ((4, 6), -1),\n",
    "        ((7, 5), -1),\n",
    "        ((4, 4), +1),\n",
    "        ((5, 4), +1)]"
   ]
  },
  {
   "cell_type": "code",
   "execution_count": null,
   "id": "d412c402-f271-4fc6-9de3-ccf9234d58d5",
   "metadata": {
    "tags": []
   },
   "outputs": [],
   "source": [
    "import matplotlib.pyplot as plt"
   ]
  },
  {
   "cell_type": "code",
   "execution_count": null,
   "id": "055cf0c0-1345-4f68-a001-d629efbde6e9",
   "metadata": {
    "tags": []
   },
   "outputs": [],
   "source": [
    "fig = plt.figure(figsize=(6,6))\n",
    "ax = plt.axes()\n",
    "\n",
    "xc1 = []\n",
    "yc1 = []\n",
    "xc2 = []\n",
    "yc2 = []\n",
    "for (x, y), c in D:\n",
    "    if c == +1:\n",
    "        xc1.append(x)\n",
    "        yc1.append(y)\n",
    "    else:\n",
    "        xc2.append(x)\n",
    "        yc2.append(y)\n",
    "\n",
    "ax.scatter(xc1, yc1, label=\"$+1$\");\n",
    "ax.scatter(xc2, yc2, label=\"$-1$\");\n",
    "ax.legend();\n",
    "\n",
    "ax.set_xlim((0, 8));\n",
    "ax.set_ylim((0, 8));"
   ]
  },
  {
   "cell_type": "markdown",
   "id": "b7c026e0-7590-4be0-b61a-952e49677ea3",
   "metadata": {},
   "source": [
    "Parece que una frontera de desición circular nos permitiría resolver el problema.\n",
    "\n",
    "¿Qué circulo elegimos?"
   ]
  },
  {
   "cell_type": "code",
   "execution_count": null,
   "id": "d8dbf930-c7b3-4469-9d5b-f0d1c3b07461",
   "metadata": {
    "tags": []
   },
   "outputs": [],
   "source": [
    "fig = plt.figure(figsize=(6,6))\n",
    "ax = plt.axes()\n",
    "\n",
    "xc1 = []\n",
    "yc1 = []\n",
    "xc2 = []\n",
    "yc2 = []\n",
    "for (x, y), c in D:\n",
    "    if c == +1:\n",
    "        xc1.append(x)\n",
    "        yc1.append(y)\n",
    "    else:\n",
    "        xc2.append(x)\n",
    "        yc2.append(y)\n",
    "\n",
    "circ = plt.Circle((4.5, 3.5), 1, alpha=0.25, zorder=0)\n",
    "\n",
    "ax.scatter(xc1, yc1, label=\"$+1$\");\n",
    "ax.scatter(xc2, yc2, label=\"$-1$\");\n",
    "ax.add_patch(circ);\n",
    "ax.legend();\n",
    "\n",
    "ax.set_xlim((0, 8));\n",
    "ax.set_ylim((0, 8));"
   ]
  },
  {
   "cell_type": "markdown",
   "id": "700710a2-cf1a-4ab1-a160-c13a2a15b279",
   "metadata": {},
   "source": [
    "Círculo con centro en $(4.5, 3.5)$ y radio $1$\n",
    "\n",
    "\n",
    "Ecuación general, queremos clasificar con la clase $+1$ a los puntos $x_1, x_2$ que satisfacen la siguiente desigualdad\n",
    "\n",
    "$$(x_1-a)^2 + (x_2-b)^2 \\leq r^2$$\n",
    "\n",
    "Para una frontera de desición centrada en $(a,b)$ con radio $r$.\n",
    "\n",
    "Desarrollamos la desigualdad:\n",
    "\n"
   ]
  },
  {
   "cell_type": "markdown",
   "id": "ca9ee45e-5def-4672-b24f-c2c17d6ae552",
   "metadata": {},
   "source": [
    "$$\\begin{align*}\n",
    "(x_1-a)^2 + (x_2-b)^2 &\\leq r^2 \\\\\n",
    "%%\n",
    "x_1^2 - 2ax_1 + a^2 + x_2^2 - 2bx_2 + b^2 &\\leq r^2 \\\\\n",
    "%%\n",
    "x_1^2 - 2ax_1 + a^2 + x_2^2 - 2bx_2 + b^2 - r^2 &\\leq 0 \\\\\n",
    "%%\n",
    "(a^2 + b^2 - r^2)1 + (-2a)x_1 + (-2b)x_2 + (1)(x_1^2+x_2^2) &\\leq 0 \\\\\n",
    "\\end{align*}$$\n",
    "\n",
    "Si un punto satisface esta desigualdad, lamentablemente, sería clasificado como $-1$ ya que tomaríamos el signo del lado izquierdo de la desigualdad. Por lo tanto, debemos ajustar la desigualdad multiplicando ambos lados por $-1$.\n",
    "\n",
    "$$\\begin{align*}\n",
    "-\\left[(a^2 + b^2 - r^2)1 + (-2a)x_1 + (-2b)x_2 + (1)(x_1^2+x_2^2)\\right] &\\geq -0 \\\\\n",
    "%%\n",
    "(r^2 - a^2 - b^2)1 + (2a)x_1 + (2b)x_2 + (-1)(x_1^2+x_2^2) &\\geq 0 \\\\\n",
    "%%\n",
    "[r^2 - a^2 - b^2, 2a, 2b, -1]\\cdot[1, x_1, x_2, x_1^2+x_2^2] &\\geq 0 \\\\\n",
    "%%\n",
    "\\mathbf{w}\\cdot\\phi(x) &\\geq 0 \\\\\n",
    "\\end{align*}$$"
   ]
  },
  {
   "cell_type": "code",
   "execution_count": null,
   "id": "14316fd6-bf61-4a4a-b94a-1a68b1c998c7",
   "metadata": {
    "tags": []
   },
   "outputs": [],
   "source": [
    "a = 4.5\n",
    "b = 3.5\n",
    "r = 1.0\n",
    "\n",
    "w = np.array([\n",
    "    r**2-a**2-b**2,\n",
    "    2*a,\n",
    "    2*b,\n",
    "    -1,\n",
    "])\n",
    "\n",
    "def phi(x):\n",
    "    return np.array([1.0, x[0], x[1], x[0]**2 + x[1]**2])\n",
    "\n",
    "def classify(x):\n",
    "    return sign(np.dot(w, phi(x)))"
   ]
  },
  {
   "cell_type": "code",
   "execution_count": null,
   "id": "e235783f-91b0-4108-8de6-c6aa945acae1",
   "metadata": {
    "tags": []
   },
   "outputs": [],
   "source": [
    "w"
   ]
  },
  {
   "cell_type": "markdown",
   "id": "db1f1b7a-958e-45f5-b74d-7aded9bae8ea",
   "metadata": {},
   "source": [
    "Verifiquemos empíricamente si el clasificador describe el objeto geométrico deseado:"
   ]
  },
  {
   "cell_type": "code",
   "execution_count": null,
   "id": "f17dce06-734f-4313-b71f-fddfefef49fe",
   "metadata": {
    "tags": []
   },
   "outputs": [],
   "source": [
    "fig = plt.figure(figsize=(6,6))\n",
    "ax = plt.axes()\n",
    "\n",
    "xc1 = []\n",
    "yc1 = []\n",
    "xc2 = []\n",
    "yc2 = []\n",
    "\n",
    "for x in np.linspace(0, 7, 100):\n",
    "    for y in np.linspace(0, 6, 100):\n",
    "        if classify((x, y)) == +1:\n",
    "            xc1.append(x)\n",
    "            yc1.append(y)\n",
    "        else:\n",
    "            xc2.append(x)\n",
    "            yc2.append(y)\n",
    "\n",
    "ax.scatter(xc1, yc1, label=\"$+1$\", s=26, marker=\"s\");\n",
    "ax.scatter(xc2, yc2, label=\"$-1$\", s=26, marker=\"s\");\n",
    "ax.legend();\n",
    "\n",
    "ax.set_xlim((0, 8));\n",
    "ax.set_ylim((0, 8));"
   ]
  },
  {
   "cell_type": "code",
   "execution_count": null,
   "id": "77edc584-9cc2-413c-8426-2a407584cfc9",
   "metadata": {
    "tags": []
   },
   "outputs": [],
   "source": [
    "for x, y in D:\n",
    "    assert(classify(x) == y)"
   ]
  },
  {
   "cell_type": "markdown",
   "id": "17397db5-d819-49c8-adb0-f54d39c70f74",
   "metadata": {},
   "source": [
    "Todo fino capuchino"
   ]
  }
 ],
 "metadata": {
  "kernelspec": {
   "display_name": "Python 3 (ipykernel)",
   "language": "python",
   "name": "python3"
  },
  "language_info": {
   "codemirror_mode": {
    "name": "ipython",
    "version": 3
   },
   "file_extension": ".py",
   "mimetype": "text/x-python",
   "name": "python",
   "nbconvert_exporter": "python",
   "pygments_lexer": "ipython3",
   "version": "3.10.9"
  }
 },
 "nbformat": 4,
 "nbformat_minor": 5
}
